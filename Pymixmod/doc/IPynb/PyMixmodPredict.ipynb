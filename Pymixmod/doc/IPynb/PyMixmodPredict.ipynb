{
 "cells": [
  {
   "cell_type": "markdown",
   "metadata": {},
   "source": [
    "# Prédictions"
   ]
  },
  {
   "cell_type": "markdown",
   "metadata": {},
   "source": [
    "Importations :"
   ]
  },
  {
   "cell_type": "code",
   "execution_count": 1,
   "metadata": {},
   "outputs": [],
   "source": [
    "import pandas as pd\n",
    "\n",
    "import mixmod"
   ]
  },
  {
   "cell_type": "markdown",
   "metadata": {},
   "source": [
    "Chargement des données :"
   ]
  },
  {
   "cell_type": "code",
   "execution_count": 2,
   "metadata": {},
   "outputs": [],
   "source": [
    "data = pd.read_csv(\"../../data/iris.csv\")"
   ]
  },
  {
   "cell_type": "markdown",
   "metadata": {},
   "source": [
    "Liste d'observations qu'on va retirer à l'apprentissage, et ensuite utiliser pour la prédiction :"
   ]
  },
  {
   "cell_type": "code",
   "execution_count": 3,
   "metadata": {},
   "outputs": [],
   "source": [
    "remaining_obs = [17, 101, 149, 33, 120, 73, 58, 25, 147, 148]"
   ]
  },
  {
   "cell_type": "markdown",
   "metadata": {},
   "source": [
    "Apprentissage sur data - remaining_obs en retirant \"species\", comme précédemment :"
   ]
  },
  {
   "cell_type": "code",
   "execution_count": 4,
   "metadata": {},
   "outputs": [
    {
     "name": "stdout",
     "output_type": "stream",
     "text": [
      "CALL LEARN DEALLOC\n"
     ]
    }
   ],
   "source": [
    "iris_learn = mixmod.learn(data.drop(remaining_obs).iloc[:, :4], data.drop(remaining_obs).iloc[:, 4])"
   ]
  },
  {
   "cell_type": "markdown",
   "metadata": {},
   "source": [
    "Prédiction :"
   ]
  },
  {
   "cell_type": "code",
   "execution_count": 5,
   "metadata": {},
   "outputs": [],
   "source": [
    "prediction = mixmod.predict(data.iloc[remaining_obs, :].iloc[:, :4], iris_learn.best_result)"
   ]
  },
  {
   "cell_type": "markdown",
   "metadata": {},
   "source": [
    "Résultats :"
   ]
  },
  {
   "cell_type": "code",
   "execution_count": 6,
   "metadata": {},
   "outputs": [
    {
     "name": "stdout",
     "output_type": "stream",
     "text": [
      "****************************************\n",
      "*** INPUT:\n",
      "****************************************\n",
      "* nbCluster   = 3\n",
      "* model name  = b'Gaussian_pk_Lk_C'\n",
      "* criterion   = CV(0.9714)\n",
      "* likelihood  = -230.3448\n",
      "****************************************\n",
      "*** Cluster 1\n",
      "* proportion = 0.3357\n",
      "* means      = 4.9936 3.4191 1.4617 0.2468\n",
      "* variances  = |0.1507 0.0634 0.0846 0.0228|\n",
      "               |0.0634 0.0804 0.0332 0.0187|\n",
      "               |0.0846 0.0332 0.0987 0.0256|\n",
      "               |0.0228 0.0187 0.0256 0.0222|\n",
      "*** Cluster 2\n",
      "* proportion = 0.3429\n",
      "* means      = 5.9187 2.7667 4.2437 1.3292\n",
      "* variances  = |0.2237 0.0941 0.1256 0.0339|\n",
      "               |0.0941 0.1193 0.0492 0.0278|\n",
      "               |0.1256 0.0492 0.1465 0.0380|\n",
      "               |0.0339 0.0278 0.0380 0.0329|\n",
      "*** Cluster 3\n",
      "* proportion = 0.3214\n",
      "* means      = 6.6244 2.9644 5.5800 2.0222\n",
      "* variances  = |0.4079 0.1716 0.2290 0.0618|\n",
      "               |0.1716 0.2176 0.0898 0.0506|\n",
      "               |0.2290 0.0898 0.2671 0.0693|\n",
      "               |0.0618 0.0506 0.0693 0.0600|\n",
      "****************************************\n",
      "\n",
      "* Classification with CV:\n",
      "           | Cluster 1 | Cluster 2 | Cluster 3 |\n",
      "----------- ----------- ----------- -----------\n",
      " Cluster 1 |        47 |         0 |         0 |\n",
      " Cluster 2 |         0 |        45 |         1 |\n",
      " Cluster 3 |         0 |         3 |        44 |\n",
      "----------- ----------- ----------- -----------\n",
      "* Error rate with CV = 2.86\n",
      "* Classification with MAP:\n",
      "           | Cluster 1 | Cluster 2 | Cluster 3 |\n",
      " Cluster 1 |        47 |         0 |         0 |\n",
      " Cluster 2 |         0 |        48 |         0 |\n",
      " Cluster 3 |         0 |         0 |        45 |\n",
      "----------- ----------- ----------- -----------\n",
      "* Error rate with MAP = 0.00\n",
      "* data =\n",
      "17   5.1  3.5  1.4  0.3\n",
      "101  5.8  2.7  5.1  1.9\n",
      "149  5.9  3.0  5.1  1.8\n",
      "33   5.5  4.2  1.4  0.2\n",
      "120  6.9  3.2  5.7  2.3\n",
      "73   6.1  2.8  4.7  1.2\n",
      "58   6.6  2.9  4.6  1.3\n",
      "25   5.0  3.0  1.6  0.2\n",
      "147  6.5  3.0  5.2  2.0\n",
      "148  6.2  3.4  5.4  2.3\n",
      "* ... ...\n",
      "\n",
      "\n",
      "****************************************\n",
      "*** PREDICTION:\n",
      "* partition = 1 3 3 1 3 2 2 1 3 3\n",
      "* probabilities = |1.0000 0.0000 0.0000|\n",
      "                  |0.0000 0.0014 0.9986|\n",
      "                  |0.0000 0.0210 0.9790|\n",
      "                  |1.0000 0.0000 0.0000|\n",
      "                  |0.0000 0.0000 1.0000|\n",
      "                  |0.0000 0.9954 0.0046|\n",
      "                  |0.0000 0.9977 0.0023|\n",
      "                  |1.0000 0.0000 0.0000|\n",
      "                  |0.0000 0.0024 0.9976|\n",
      "                  |0.0000 0.0000 1.0000|\n",
      "\n"
     ]
    }
   ],
   "source": [
    "print(prediction)"
   ]
  }
 ],
 "metadata": {
  "kernelspec": {
   "display_name": "Python 3 (ipykernel)",
   "language": "python",
   "name": "python3"
  },
  "language_info": {
   "codemirror_mode": {
    "name": "ipython",
    "version": 3
   },
   "file_extension": ".py",
   "mimetype": "text/x-python",
   "name": "python",
   "nbconvert_exporter": "python",
   "pygments_lexer": "ipython3",
   "version": "3.10.12"
  }
 },
 "nbformat": 4,
 "nbformat_minor": 1
}
