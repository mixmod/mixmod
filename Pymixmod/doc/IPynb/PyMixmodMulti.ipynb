{
 "cells": [
  {
   "cell_type": "markdown",
   "metadata": {},
   "source": [
    "# Classification, données qualitatives"
   ]
  },
  {
   "cell_type": "markdown",
   "metadata": {},
   "source": [
    "Importations :"
   ]
  },
  {
   "cell_type": "code",
   "execution_count": 1,
   "metadata": {},
   "outputs": [],
   "source": [
    "import pandas as pd\n",
    "\n",
    "import mixmod\n",
    "from mixmod import gm"
   ]
  },
  {
   "cell_type": "markdown",
   "metadata": {},
   "source": [
    "Chargement des données dans un **DataFrame** :"
   ]
  },
  {
   "cell_type": "code",
   "execution_count": 2,
   "metadata": {},
   "outputs": [],
   "source": [
    "data = pd.read_csv(\"../../data/birds.csv\", dtype=\"category\")"
   ]
  },
  {
   "cell_type": "markdown",
   "metadata": {},
   "source": [
    "la variable contient bien un **DataFrame**:"
   ]
  },
  {
   "cell_type": "code",
   "execution_count": 3,
   "metadata": {},
   "outputs": [
    {
     "data": {
      "text/html": [
       "<div>\n",
       "<style scoped>\n",
       "    .dataframe tbody tr th:only-of-type {\n",
       "        vertical-align: middle;\n",
       "    }\n",
       "\n",
       "    .dataframe tbody tr th {\n",
       "        vertical-align: top;\n",
       "    }\n",
       "\n",
       "    .dataframe thead th {\n",
       "        text-align: right;\n",
       "    }\n",
       "</style>\n",
       "<table border=\"1\" class=\"dataframe\">\n",
       "  <thead>\n",
       "    <tr style=\"text-align: right;\">\n",
       "      <th></th>\n",
       "      <th>gender</th>\n",
       "      <th>eyebrow</th>\n",
       "      <th>collar</th>\n",
       "      <th>sub-caudal</th>\n",
       "      <th>border</th>\n",
       "    </tr>\n",
       "  </thead>\n",
       "  <tbody>\n",
       "    <tr>\n",
       "      <th>0</th>\n",
       "      <td>male</td>\n",
       "      <td>poor pronounced</td>\n",
       "      <td>dotted</td>\n",
       "      <td>white</td>\n",
       "      <td>few</td>\n",
       "    </tr>\n",
       "    <tr>\n",
       "      <th>1</th>\n",
       "      <td>female</td>\n",
       "      <td>none</td>\n",
       "      <td>dotted</td>\n",
       "      <td>black</td>\n",
       "      <td>none</td>\n",
       "    </tr>\n",
       "    <tr>\n",
       "      <th>2</th>\n",
       "      <td>female</td>\n",
       "      <td>pronounced</td>\n",
       "      <td>none</td>\n",
       "      <td>white</td>\n",
       "      <td>none</td>\n",
       "    </tr>\n",
       "    <tr>\n",
       "      <th>3</th>\n",
       "      <td>male</td>\n",
       "      <td>pronounced</td>\n",
       "      <td>dotted</td>\n",
       "      <td>white</td>\n",
       "      <td>none</td>\n",
       "    </tr>\n",
       "    <tr>\n",
       "      <th>4</th>\n",
       "      <td>male</td>\n",
       "      <td>pronounced</td>\n",
       "      <td>dotted</td>\n",
       "      <td>white</td>\n",
       "      <td>none</td>\n",
       "    </tr>\n",
       "    <tr>\n",
       "      <th>...</th>\n",
       "      <td>...</td>\n",
       "      <td>...</td>\n",
       "      <td>...</td>\n",
       "      <td>...</td>\n",
       "      <td>...</td>\n",
       "    </tr>\n",
       "    <tr>\n",
       "      <th>64</th>\n",
       "      <td>female</td>\n",
       "      <td>pronounced</td>\n",
       "      <td>none</td>\n",
       "      <td>white</td>\n",
       "      <td>none</td>\n",
       "    </tr>\n",
       "    <tr>\n",
       "      <th>65</th>\n",
       "      <td>female</td>\n",
       "      <td>pronounced</td>\n",
       "      <td>none</td>\n",
       "      <td>white</td>\n",
       "      <td>none</td>\n",
       "    </tr>\n",
       "    <tr>\n",
       "      <th>66</th>\n",
       "      <td>female</td>\n",
       "      <td>pronounced</td>\n",
       "      <td>none</td>\n",
       "      <td>white</td>\n",
       "      <td>none</td>\n",
       "    </tr>\n",
       "    <tr>\n",
       "      <th>67</th>\n",
       "      <td>male</td>\n",
       "      <td>very pronounced</td>\n",
       "      <td>none</td>\n",
       "      <td>white</td>\n",
       "      <td>none</td>\n",
       "    </tr>\n",
       "    <tr>\n",
       "      <th>68</th>\n",
       "      <td>male</td>\n",
       "      <td>pronounced</td>\n",
       "      <td>none</td>\n",
       "      <td>white</td>\n",
       "      <td>none</td>\n",
       "    </tr>\n",
       "  </tbody>\n",
       "</table>\n",
       "<p>69 rows × 5 columns</p>\n",
       "</div>"
      ],
      "text/plain": [
       "    gender          eyebrow  collar sub-caudal border\n",
       "0     male  poor pronounced  dotted      white    few\n",
       "1   female             none  dotted      black   none\n",
       "2   female       pronounced    none      white   none\n",
       "3     male       pronounced  dotted      white   none\n",
       "4     male       pronounced  dotted      white   none\n",
       "..     ...              ...     ...        ...    ...\n",
       "64  female       pronounced    none      white   none\n",
       "65  female       pronounced    none      white   none\n",
       "66  female       pronounced    none      white   none\n",
       "67    male  very pronounced    none      white   none\n",
       "68    male       pronounced    none      white   none\n",
       "\n",
       "[69 rows x 5 columns]"
      ]
     },
     "execution_count": 3,
     "metadata": {},
     "output_type": "execute_result"
    }
   ],
   "source": [
    "data"
   ]
  },
  {
   "cell_type": "markdown",
   "metadata": {},
   "source": [
    "Classification avec **Mixmod** :"
   ]
  },
  {
   "cell_type": "code",
   "execution_count": 4,
   "metadata": {},
   "outputs": [],
   "source": [
    "cluster = mixmod.cluster(data, 2, gm.QUALITATIVE)"
   ]
  },
  {
   "cell_type": "markdown",
   "metadata": {},
   "source": [
    "Le résultat est une instance **ClusterOutput** :"
   ]
  },
  {
   "cell_type": "code",
   "execution_count": 5,
   "metadata": {},
   "outputs": [
    {
     "data": {
      "text/plain": [
       "<mixmod.ClusterOutput at 0x7f8c3244a4d0>"
      ]
     },
     "execution_count": 5,
     "metadata": {},
     "output_type": "execute_result"
    }
   ],
   "source": [
    "cluster"
   ]
  },
  {
   "cell_type": "markdown",
   "metadata": {},
   "source": [
    "Affichage **\"Rmixmod-like\"** :"
   ]
  },
  {
   "cell_type": "code",
   "execution_count": 6,
   "metadata": {},
   "outputs": [
    {
     "name": "stdout",
     "output_type": "stream",
     "text": [
      "****************************************\n",
      "*** INPUT:\n",
      "****************************************\n",
      "* nbCluster = 2\n",
      "* criterion = BIC\n",
      "****************************************\n",
      "*** MIXMOD Models:\n",
      "* list = b'Binary_pk_Ekjh'\n",
      "****************************************\n",
      "* data =\n",
      "0     male  poor pronounced  dotted          white   few\n",
      "1   female             none  dotted          black  none\n",
      "2   female       pronounced    none          white  none\n",
      "3     male       pronounced  dotted          white  none\n",
      "4     male       pronounced  dotted          white  none\n",
      "5     male       pronounced  dotted          white  none\n",
      "6   female       pronounced  dotted          white  none\n",
      "7   female  poor pronounced  dotted          white  none\n",
      "8   female  poor pronounced  dotted          white  none\n",
      "9   female  poor pronounced  dotted          white  none\n",
      "10  female  poor pronounced  dotted          black  none\n",
      "11    male       pronounced  dotted          white  none\n",
      "12  female  poor pronounced  dotted          black  none\n",
      "13    male  poor pronounced  dotted  black & white  none\n",
      "14  female  poor pronounced  dotted          white  none\n",
      "15  female  poor pronounced  dotted          black  none\n",
      "16  female  poor pronounced  dotted          black  none\n",
      "17    male  poor pronounced  dotted          black  none\n",
      "18  female  poor pronounced  dotted          white  none\n",
      "19  female             none  dotted          white  none\n",
      "20    male  poor pronounced  dotted          black  none\n",
      "21    male       pronounced  dotted          white  none\n",
      "22    male  poor pronounced  dotted  black & white  none\n",
      "23    male  poor pronounced  dotted          black  none\n",
      "24    male  poor pronounced  dotted          black  none\n",
      "25  female  poor pronounced    none          black  none\n",
      "26  female  poor pronounced  dotted  black & white  none\n",
      "27    male  poor pronounced  dotted  black & WHITE  none\n",
      "28    male             none  dotted          black  none\n",
      "29    male             none    none          white  none\n",
      "30    male  poor pronounced  dotted          white  none\n",
      "31    male             none    none          white  none\n",
      "32  female  poor pronounced  dotted          white   few\n",
      "33    male             none    none          white  none\n",
      "34  female       pronounced    none          white  none\n",
      "35  female       pronounced    none          white  none\n",
      "36  female       pronounced    none          white  none\n",
      "37    male       pronounced    none          white  none\n",
      "38    male       pronounced    none          white  none\n",
      "39  female       pronounced    none          white  none\n",
      "40  female       pronounced    none          white  none\n",
      "41    male       pronounced    none          white  none\n",
      "42  female       pronounced    none          white  none\n",
      "43  female       pronounced    none          white  none\n",
      "44  female       pronounced    none          white  none\n",
      "45  female       pronounced    none          white  none\n",
      "46    male       pronounced    none          white  none\n",
      "47    male       pronounced    none          white  none\n",
      "48  female       pronounced    none          white  none\n",
      "49  female  very pronounced    none  black & WHITE  none\n",
      "50  female       pronounced    none          white  none\n",
      "51    male       pronounced    none          white  none\n",
      "52    male       pronounced    none          white  many\n",
      "53  female       pronounced    none          white  none\n",
      "54    male       pronounced    none          white  none\n",
      "55  female       pronounced    none          white  none\n",
      "56  female  very pronounced    none          white   few\n",
      "57  female  very pronounced    none          white  none\n",
      "58    male       pronounced    none          white  none\n",
      "59  female       pronounced    none          white  none\n",
      "60    male       pronounced    none          white  none\n",
      "61    male       pronounced    none          white  none\n",
      "62    male       pronounced    none          white  none\n",
      "63    male       pronounced    none          white  none\n",
      "64  female       pronounced    none          white  none\n",
      "65  female       pronounced    none          white  none\n",
      "66  female       pronounced    none          white  none\n",
      "67    male  very pronounced    none          white  none\n",
      "68    male       pronounced    none          white  none\n",
      "* ... ...\n",
      "****************************************\n",
      "*** MIXMOD Strategy:\n",
      "* number of tries      = 1\n",
      "* algorithm            = EM\n",
      "* number of iterations = 200\n",
      "* epsilon              = 0.001\n",
      "*** Initialization strategy:\n",
      "* algorithm            = SMALL_EM\n",
      "* number of tries      = 10\n",
      "* number of iterations = 5\n",
      "* epsilon              = 0.001\n",
      "* seed                 = NULL\n",
      "****************************************\n",
      "\n",
      "\n",
      "****************************************\n",
      "*** BEST MODEL OUTPUT:\n",
      "*** According to the BIC criterion\n",
      "****************************************\n",
      "* nbCluster   = 2\n",
      "* model name  = b'Binary_pk_Ekjh'\n",
      "* criterion   = BIC(482.2972)\n",
      "* likelihood  = -196.6905\n",
      "****************************************\n",
      "* number of modalities = 2 4 2 4 3\n",
      "*** Cluster 1\n",
      "* proportion = 0.3456\n",
      "* center     = 1 2 1 1 3\n",
      "* scatter    = |0.4282 0.4282 0.3000 1.0000|\n",
      "               |0.1204 0.1465 0.0152 0.0108|\n",
      "               |0.0637 0.0637 1.0000 1.0000|\n",
      "               |0.5476 0.0506 0.1308 0.3662|\n",
      "               |0.0940 0.0134 0.1074 1.0000|\n",
      "*** Cluster 2\n",
      "* proportion = 0.6544\n",
      "* center     = 2 3 2 4 3\n",
      "* scatter    = |0.4938 0.4938                                                                                                                                                                                                                                                                                                                     0.0000 0.0000|\n",
      "               |0.0760 0.0063                                                                                                                                                                                                                                                                                                                     0.1740 0.0917|\n",
      "               |0.1459 0.1459 4,046,562,387,829,176,877,220,237,046,816,170,245,433,118,729,662,934,400,405,998,410,648,390,596,436,476,072,202,493,742,710,749,920,726,822,425,330,903,094,134,890,659,945,692,926,753,741,169,606,474,660,608,661,245,815,494,841,515,811,129,940,169,955,089,095,693,415,193,017,660,236,193,056,982,013,313,024.0000 0.0000|\n",
      "               |0.0056 0.0269                                                                                                                                                                                                                                                                                                                     0.0054 0.0379|\n",
      "               |0.0288 0.0289                                                                                                                                                                                                                                                                                                                     0.0577 0.0000|\n",
      "****************************************\n",
      "\n",
      "\n"
     ]
    }
   ],
   "source": [
    "print(cluster)"
   ]
  },
  {
   "cell_type": "markdown",
   "metadata": {},
   "source": [
    "La méthode **barplot()** :"
   ]
  },
  {
   "cell_type": "code",
   "execution_count": 7,
   "metadata": {},
   "outputs": [
    {
     "data": {
      "image/png": "[encoded data removed]",
      "text/plain": [
       "<Figure size 640x480 with 2 Axes>"
      ]
     },
     "metadata": {},
     "output_type": "display_data"
    }
   ],
   "source": [
    "fig = cluster.barplot(colors=[\"yellow\", \"green\"], variables=[\"gender\", \"eyebrow\"])"
   ]
  }
 ],
 "metadata": {
  "kernelspec": {
   "display_name": "Python 3 (ipykernel)",
   "language": "python",
   "name": "python3"
  },
  "language_info": {
   "codemirror_mode": {
    "name": "ipython",
    "version": 3
   },
   "file_extension": ".py",
   "mimetype": "text/x-python",
   "name": "python",
   "nbconvert_exporter": "python",
   "pygments_lexer": "ipython3",
   "version": "3.10.12"
  }
 },
 "nbformat": 4,
 "nbformat_minor": 1
}
